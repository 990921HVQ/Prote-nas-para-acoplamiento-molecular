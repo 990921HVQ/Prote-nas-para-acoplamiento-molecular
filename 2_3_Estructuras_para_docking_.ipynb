{
  "nbformat": 4,
  "nbformat_minor": 0,
  "metadata": {
    "colab": {
      "provenance": [],
      "include_colab_link": true
    },
    "kernelspec": {
      "name": "python3",
      "display_name": "Python 3"
    },
    "language_info": {
      "name": "python"
    },
    "widgets": {
      "application/vnd.jupyter.widget-state+json": {
        "9222e6053cf14e03b95c294ad22eea07": {
          "model_module": "nglview-js-widgets",
          "model_name": "ColormakerRegistryModel",
          "model_module_version": "3.0.1",
          "state": {
            "_dom_classes": [],
            "_model_module": "nglview-js-widgets",
            "_model_module_version": "3.0.1",
            "_model_name": "ColormakerRegistryModel",
            "_msg_ar": [],
            "_msg_q": [],
            "_ready": false,
            "_view_count": null,
            "_view_module": "nglview-js-widgets",
            "_view_module_version": "3.0.1",
            "_view_name": "ColormakerRegistryView",
            "layout": "IPY_MODEL_0ce987d76d564046b557561f7feb6760"
          }
        }
      }
    }
  },
  "cells": [
    {
      "cell_type": "markdown",
      "metadata": {
        "id": "view-in-github",
        "colab_type": "text"
      },
      "source": [
        "<a href=\"https://colab.research.google.com/github/990921HVQ/Prote-nas-para-acoplamiento-molecular/blob/main/2_3_Estructuras_para_docking_.ipynb\" target=\"_parent\"><img src=\"https://colab.research.google.com/assets/colab-badge.svg\" alt=\"Open In Colab\"/></a>"
      ]
    },
    {
      "cell_type": "code",
      "execution_count": null,
      "metadata": {
        "colab": {
          "base_uri": "https://localhost:8080/"
        },
        "id": "1Ioa72sgx0ya",
        "outputId": "3ce72d85-69e5-4e8f-c3b1-34f6e5652860"
      },
      "outputs": [
        {
          "output_type": "stream",
          "name": "stdout",
          "text": [
            "Looking in indexes: https://pypi.org/simple, https://us-python.pkg.dev/colab-wheels/public/simple/\n",
            "Collecting biotite\n",
            "  Downloading biotite-0.35.0.tar.gz (31.8 MB)\n",
            "\u001b[K     |████████████████████████████████| 31.8 MB 64 kB/s \n",
            "\u001b[?25h  Installing build dependencies ... \u001b[?25l\u001b[?25hdone\n",
            "  Getting requirements to build wheel ... \u001b[?25l\u001b[?25hdone\n",
            "    Preparing wheel metadata ... \u001b[?25l\u001b[?25hdone\n",
            "Requirement already satisfied: numpy>=1.19 in /usr/local/lib/python3.7/dist-packages (from biotite) (1.21.6)\n",
            "Requirement already satisfied: requests>=2.12 in /usr/local/lib/python3.7/dist-packages (from biotite) (2.23.0)\n",
            "Requirement already satisfied: networkx>=2.0 in /usr/local/lib/python3.7/dist-packages (from biotite) (2.6.3)\n",
            "Requirement already satisfied: msgpack>=0.5.6 in /usr/local/lib/python3.7/dist-packages (from biotite) (1.0.4)\n",
            "Requirement already satisfied: certifi>=2017.4.17 in /usr/local/lib/python3.7/dist-packages (from requests>=2.12->biotite) (2022.9.24)\n",
            "Requirement already satisfied: urllib3!=1.25.0,!=1.25.1,<1.26,>=1.21.1 in /usr/local/lib/python3.7/dist-packages (from requests>=2.12->biotite) (1.24.3)\n",
            "Requirement already satisfied: chardet<4,>=3.0.2 in /usr/local/lib/python3.7/dist-packages (from requests>=2.12->biotite) (3.0.4)\n",
            "Requirement already satisfied: idna<3,>=2.5 in /usr/local/lib/python3.7/dist-packages (from requests>=2.12->biotite) (2.10)\n",
            "Building wheels for collected packages: biotite\n",
            "  Building wheel for biotite (PEP 517) ... \u001b[?25l\u001b[?25hdone\n",
            "  Created wheel for biotite: filename=biotite-0.35.0-cp37-cp37m-linux_x86_64.whl size=38774098 sha256=2b5ff0d2404416dbc3b4563ae660f0fb1bb50a381c41f7933982748272195762\n",
            "  Stored in directory: /root/.cache/pip/wheels/46/8e/c5/3f067da57892eae88984d418d44b8212be171953891058ab37\n",
            "Successfully built biotite\n",
            "Installing collected packages: biotite\n",
            "Successfully installed biotite-0.35.0\n",
            "Looking in indexes: https://pypi.org/simple, https://us-python.pkg.dev/colab-wheels/public/simple/\n",
            "Collecting redo\n",
            "  Downloading redo-2.0.4.tar.gz (10 kB)\n",
            "  Installing build dependencies ... \u001b[?25l\u001b[?25hdone\n",
            "  Getting requirements to build wheel ... \u001b[?25l\u001b[?25hdone\n",
            "    Preparing wheel metadata ... \u001b[?25l\u001b[?25hdone\n",
            "Building wheels for collected packages: redo\n",
            "  Building wheel for redo (PEP 517) ... \u001b[?25l\u001b[?25hdone\n",
            "  Created wheel for redo: filename=redo-2.0.4-py2.py3-none-any.whl size=11947 sha256=ae6eed1339548d546d0b73916a8ba598555c87641eff09ffb5eaae6f6a6d0b72\n",
            "  Stored in directory: /root/.cache/pip/wheels/c5/64/c5/c993cccc9fc8247ab905f08ac7bd59dbc86fbe1d07ca871bdb\n",
            "Successfully built redo\n",
            "Installing collected packages: redo\n",
            "Successfully installed redo-2.0.4\n",
            "Looking in indexes: https://pypi.org/simple, https://us-python.pkg.dev/colab-wheels/public/simple/\n",
            "Requirement already satisfied: urllib3 in /usr/local/lib/python3.7/dist-packages (1.24.3)\n",
            "Looking in indexes: https://pypi.org/simple, https://us-python.pkg.dev/colab-wheels/public/simple/\n",
            "Collecting requests_cache\n",
            "  Downloading requests_cache-0.9.7-py3-none-any.whl (48 kB)\n",
            "\u001b[K     |████████████████████████████████| 48 kB 2.5 MB/s \n",
            "\u001b[?25hRequirement already satisfied: appdirs>=1.4.4 in /usr/local/lib/python3.7/dist-packages (from requests_cache) (1.4.4)\n",
            "Requirement already satisfied: attrs>=21.2 in /usr/local/lib/python3.7/dist-packages (from requests_cache) (22.1.0)\n",
            "Collecting cattrs>=22.2\n",
            "  Downloading cattrs-22.2.0-py3-none-any.whl (35 kB)\n",
            "Collecting url-normalize>=1.4\n",
            "  Downloading url_normalize-1.4.3-py2.py3-none-any.whl (6.8 kB)\n",
            "Requirement already satisfied: requests>=2.22 in /usr/local/lib/python3.7/dist-packages (from requests_cache) (2.23.0)\n",
            "Collecting urllib3>=1.25.5\n",
            "  Downloading urllib3-1.26.13-py2.py3-none-any.whl (140 kB)\n",
            "\u001b[K     |████████████████████████████████| 140 kB 8.3 MB/s \n",
            "\u001b[?25hRequirement already satisfied: typing_extensions in /usr/local/lib/python3.7/dist-packages (from cattrs>=22.2->requests_cache) (4.1.1)\n",
            "Collecting exceptiongroup\n",
            "  Downloading exceptiongroup-1.0.4-py3-none-any.whl (14 kB)\n",
            "Requirement already satisfied: certifi>=2017.4.17 in /usr/local/lib/python3.7/dist-packages (from requests>=2.22->requests_cache) (2022.9.24)\n",
            "Requirement already satisfied: idna<3,>=2.5 in /usr/local/lib/python3.7/dist-packages (from requests>=2.22->requests_cache) (2.10)\n",
            "Collecting urllib3>=1.25.5\n",
            "  Downloading urllib3-1.25.11-py2.py3-none-any.whl (127 kB)\n",
            "\u001b[K     |████████████████████████████████| 127 kB 51.3 MB/s \n",
            "\u001b[?25hRequirement already satisfied: chardet<4,>=3.0.2 in /usr/local/lib/python3.7/dist-packages (from requests>=2.22->requests_cache) (3.0.4)\n",
            "Requirement already satisfied: six in /usr/local/lib/python3.7/dist-packages (from url-normalize>=1.4->requests_cache) (1.15.0)\n",
            "Installing collected packages: urllib3, exceptiongroup, url-normalize, cattrs, requests-cache\n",
            "  Attempting uninstall: urllib3\n",
            "    Found existing installation: urllib3 1.24.3\n",
            "    Uninstalling urllib3-1.24.3:\n",
            "      Successfully uninstalled urllib3-1.24.3\n",
            "Successfully installed cattrs-22.2.0 exceptiongroup-1.0.4 requests-cache-0.9.7 url-normalize-1.4.3 urllib3-1.25.11\n",
            "Looking in indexes: https://pypi.org/simple, https://us-python.pkg.dev/colab-wheels/public/simple/\n",
            "Collecting nglview\n",
            "  Downloading nglview-3.0.3.tar.gz (5.7 MB)\n",
            "\u001b[K     |████████████████████████████████| 5.7 MB 5.1 MB/s \n",
            "\u001b[?25h  Installing build dependencies ... \u001b[?25l\u001b[?25hdone\n",
            "  Getting requirements to build wheel ... \u001b[?25l\u001b[?25hdone\n",
            "    Preparing wheel metadata ... \u001b[?25l\u001b[?25hdone\n",
            "Requirement already satisfied: jupyterlab-widgets in /usr/local/lib/python3.7/dist-packages (from nglview) (3.0.3)\n",
            "Requirement already satisfied: numpy in /usr/local/lib/python3.7/dist-packages (from nglview) (1.21.6)\n",
            "Requirement already satisfied: ipywidgets>=7 in /usr/local/lib/python3.7/dist-packages (from nglview) (7.7.1)\n",
            "Requirement already satisfied: ipython>=4.0.0 in /usr/local/lib/python3.7/dist-packages (from ipywidgets>=7->nglview) (7.9.0)\n",
            "Requirement already satisfied: traitlets>=4.3.1 in /usr/local/lib/python3.7/dist-packages (from ipywidgets>=7->nglview) (5.1.1)\n",
            "Requirement already satisfied: widgetsnbextension~=3.6.0 in /usr/local/lib/python3.7/dist-packages (from ipywidgets>=7->nglview) (3.6.1)\n",
            "Requirement already satisfied: ipython-genutils~=0.2.0 in /usr/local/lib/python3.7/dist-packages (from ipywidgets>=7->nglview) (0.2.0)\n",
            "Requirement already satisfied: ipykernel>=4.5.1 in /usr/local/lib/python3.7/dist-packages (from ipywidgets>=7->nglview) (5.3.4)\n",
            "Requirement already satisfied: tornado>=4.2 in /usr/local/lib/python3.7/dist-packages (from ipykernel>=4.5.1->ipywidgets>=7->nglview) (6.0.4)\n",
            "Requirement already satisfied: jupyter-client in /usr/local/lib/python3.7/dist-packages (from ipykernel>=4.5.1->ipywidgets>=7->nglview) (6.1.12)\n",
            "Requirement already satisfied: pickleshare in /usr/local/lib/python3.7/dist-packages (from ipython>=4.0.0->ipywidgets>=7->nglview) (0.7.5)\n",
            "Requirement already satisfied: prompt-toolkit<2.1.0,>=2.0.0 in /usr/local/lib/python3.7/dist-packages (from ipython>=4.0.0->ipywidgets>=7->nglview) (2.0.10)\n",
            "Requirement already satisfied: decorator in /usr/local/lib/python3.7/dist-packages (from ipython>=4.0.0->ipywidgets>=7->nglview) (4.4.2)\n",
            "Requirement already satisfied: pygments in /usr/local/lib/python3.7/dist-packages (from ipython>=4.0.0->ipywidgets>=7->nglview) (2.6.1)\n",
            "Requirement already satisfied: setuptools>=18.5 in /usr/local/lib/python3.7/dist-packages (from ipython>=4.0.0->ipywidgets>=7->nglview) (57.4.0)\n",
            "Collecting jedi>=0.10\n",
            "  Downloading jedi-0.18.2-py2.py3-none-any.whl (1.6 MB)\n",
            "\u001b[K     |████████████████████████████████| 1.6 MB 39.6 MB/s \n",
            "\u001b[?25hRequirement already satisfied: pexpect in /usr/local/lib/python3.7/dist-packages (from ipython>=4.0.0->ipywidgets>=7->nglview) (4.8.0)\n",
            "Requirement already satisfied: backcall in /usr/local/lib/python3.7/dist-packages (from ipython>=4.0.0->ipywidgets>=7->nglview) (0.2.0)\n",
            "Requirement already satisfied: parso<0.9.0,>=0.8.0 in /usr/local/lib/python3.7/dist-packages (from jedi>=0.10->ipython>=4.0.0->ipywidgets>=7->nglview) (0.8.3)\n",
            "Requirement already satisfied: six>=1.9.0 in /usr/local/lib/python3.7/dist-packages (from prompt-toolkit<2.1.0,>=2.0.0->ipython>=4.0.0->ipywidgets>=7->nglview) (1.15.0)\n",
            "Requirement already satisfied: wcwidth in /usr/local/lib/python3.7/dist-packages (from prompt-toolkit<2.1.0,>=2.0.0->ipython>=4.0.0->ipywidgets>=7->nglview) (0.2.5)\n",
            "Requirement already satisfied: notebook>=4.4.1 in /usr/local/lib/python3.7/dist-packages (from widgetsnbextension~=3.6.0->ipywidgets>=7->nglview) (5.7.16)\n",
            "Requirement already satisfied: terminado>=0.8.1 in /usr/local/lib/python3.7/dist-packages (from notebook>=4.4.1->widgetsnbextension~=3.6.0->ipywidgets>=7->nglview) (0.13.3)\n",
            "Requirement already satisfied: jupyter-core>=4.4.0 in /usr/local/lib/python3.7/dist-packages (from notebook>=4.4.1->widgetsnbextension~=3.6.0->ipywidgets>=7->nglview) (4.11.2)\n",
            "Requirement already satisfied: nbformat in /usr/local/lib/python3.7/dist-packages (from notebook>=4.4.1->widgetsnbextension~=3.6.0->ipywidgets>=7->nglview) (5.7.0)\n",
            "Requirement already satisfied: nbconvert<6.0 in /usr/local/lib/python3.7/dist-packages (from notebook>=4.4.1->widgetsnbextension~=3.6.0->ipywidgets>=7->nglview) (5.6.1)\n",
            "Requirement already satisfied: jinja2<=3.0.0 in /usr/local/lib/python3.7/dist-packages (from notebook>=4.4.1->widgetsnbextension~=3.6.0->ipywidgets>=7->nglview) (2.11.3)\n",
            "Requirement already satisfied: prometheus-client in /usr/local/lib/python3.7/dist-packages (from notebook>=4.4.1->widgetsnbextension~=3.6.0->ipywidgets>=7->nglview) (0.15.0)\n",
            "Requirement already satisfied: Send2Trash in /usr/local/lib/python3.7/dist-packages (from notebook>=4.4.1->widgetsnbextension~=3.6.0->ipywidgets>=7->nglview) (1.8.0)\n",
            "Requirement already satisfied: pyzmq>=17 in /usr/local/lib/python3.7/dist-packages (from notebook>=4.4.1->widgetsnbextension~=3.6.0->ipywidgets>=7->nglview) (23.2.1)\n",
            "Requirement already satisfied: MarkupSafe>=0.23 in /usr/local/lib/python3.7/dist-packages (from jinja2<=3.0.0->notebook>=4.4.1->widgetsnbextension~=3.6.0->ipywidgets>=7->nglview) (2.0.1)\n",
            "Requirement already satisfied: python-dateutil>=2.1 in /usr/local/lib/python3.7/dist-packages (from jupyter-client->ipykernel>=4.5.1->ipywidgets>=7->nglview) (2.8.2)\n",
            "Requirement already satisfied: pandocfilters>=1.4.1 in /usr/local/lib/python3.7/dist-packages (from nbconvert<6.0->notebook>=4.4.1->widgetsnbextension~=3.6.0->ipywidgets>=7->nglview) (1.5.0)\n",
            "Requirement already satisfied: bleach in /usr/local/lib/python3.7/dist-packages (from nbconvert<6.0->notebook>=4.4.1->widgetsnbextension~=3.6.0->ipywidgets>=7->nglview) (5.0.1)\n",
            "Requirement already satisfied: defusedxml in /usr/local/lib/python3.7/dist-packages (from nbconvert<6.0->notebook>=4.4.1->widgetsnbextension~=3.6.0->ipywidgets>=7->nglview) (0.7.1)\n",
            "Requirement already satisfied: testpath in /usr/local/lib/python3.7/dist-packages (from nbconvert<6.0->notebook>=4.4.1->widgetsnbextension~=3.6.0->ipywidgets>=7->nglview) (0.6.0)\n",
            "Requirement already satisfied: entrypoints>=0.2.2 in /usr/local/lib/python3.7/dist-packages (from nbconvert<6.0->notebook>=4.4.1->widgetsnbextension~=3.6.0->ipywidgets>=7->nglview) (0.4)\n",
            "Requirement already satisfied: mistune<2,>=0.8.1 in /usr/local/lib/python3.7/dist-packages (from nbconvert<6.0->notebook>=4.4.1->widgetsnbextension~=3.6.0->ipywidgets>=7->nglview) (0.8.4)\n",
            "Requirement already satisfied: fastjsonschema in /usr/local/lib/python3.7/dist-packages (from nbformat->notebook>=4.4.1->widgetsnbextension~=3.6.0->ipywidgets>=7->nglview) (2.16.2)\n",
            "Requirement already satisfied: importlib-metadata>=3.6 in /usr/local/lib/python3.7/dist-packages (from nbformat->notebook>=4.4.1->widgetsnbextension~=3.6.0->ipywidgets>=7->nglview) (4.13.0)\n",
            "Requirement already satisfied: jsonschema>=2.6 in /usr/local/lib/python3.7/dist-packages (from nbformat->notebook>=4.4.1->widgetsnbextension~=3.6.0->ipywidgets>=7->nglview) (4.3.3)\n",
            "Requirement already satisfied: typing-extensions>=3.6.4 in /usr/local/lib/python3.7/dist-packages (from importlib-metadata>=3.6->nbformat->notebook>=4.4.1->widgetsnbextension~=3.6.0->ipywidgets>=7->nglview) (4.1.1)\n",
            "Requirement already satisfied: zipp>=0.5 in /usr/local/lib/python3.7/dist-packages (from importlib-metadata>=3.6->nbformat->notebook>=4.4.1->widgetsnbextension~=3.6.0->ipywidgets>=7->nglview) (3.10.0)\n",
            "Requirement already satisfied: attrs>=17.4.0 in /usr/local/lib/python3.7/dist-packages (from jsonschema>=2.6->nbformat->notebook>=4.4.1->widgetsnbextension~=3.6.0->ipywidgets>=7->nglview) (22.1.0)\n",
            "Requirement already satisfied: importlib-resources>=1.4.0 in /usr/local/lib/python3.7/dist-packages (from jsonschema>=2.6->nbformat->notebook>=4.4.1->widgetsnbextension~=3.6.0->ipywidgets>=7->nglview) (5.10.0)\n",
            "Requirement already satisfied: pyrsistent!=0.17.0,!=0.17.1,!=0.17.2,>=0.14.0 in /usr/local/lib/python3.7/dist-packages (from jsonschema>=2.6->nbformat->notebook>=4.4.1->widgetsnbextension~=3.6.0->ipywidgets>=7->nglview) (0.19.2)\n",
            "Requirement already satisfied: ptyprocess in /usr/local/lib/python3.7/dist-packages (from terminado>=0.8.1->notebook>=4.4.1->widgetsnbextension~=3.6.0->ipywidgets>=7->nglview) (0.7.0)\n",
            "Requirement already satisfied: webencodings in /usr/local/lib/python3.7/dist-packages (from bleach->nbconvert<6.0->notebook>=4.4.1->widgetsnbextension~=3.6.0->ipywidgets>=7->nglview) (0.5.1)\n",
            "Building wheels for collected packages: nglview\n",
            "  Building wheel for nglview (PEP 517) ... \u001b[?25l\u001b[?25hdone\n",
            "  Created wheel for nglview: filename=nglview-3.0.3-py3-none-any.whl size=8057549 sha256=51cb788f417c938457228c1e3642ce44eba3b8c82b79d5407562899e0978e6af\n",
            "  Stored in directory: /root/.cache/pip/wheels/01/0c/49/c6f79d8edba8fe89752bf20de2d99040bfa57db0548975c5d5\n",
            "Successfully built nglview\n",
            "Installing collected packages: jedi, nglview\n",
            "Successfully installed jedi-0.18.2 nglview-3.0.3\n",
            "Looking in indexes: https://pypi.org/simple, https://us-python.pkg.dev/colab-wheels/public/simple/\n",
            "Collecting pypdb\n",
            "  Downloading pypdb-2.2-py3-none-any.whl (34 kB)\n",
            "Requirement already satisfied: requests in /usr/local/lib/python3.7/dist-packages (from pypdb) (2.23.0)\n",
            "Requirement already satisfied: certifi>=2017.4.17 in /usr/local/lib/python3.7/dist-packages (from requests->pypdb) (2022.9.24)\n",
            "Requirement already satisfied: chardet<4,>=3.0.2 in /usr/local/lib/python3.7/dist-packages (from requests->pypdb) (3.0.4)\n",
            "Requirement already satisfied: urllib3!=1.25.0,!=1.25.1,<1.26,>=1.21.1 in /usr/local/lib/python3.7/dist-packages (from requests->pypdb) (1.25.11)\n",
            "Requirement already satisfied: idna<3,>=2.5 in /usr/local/lib/python3.7/dist-packages (from requests->pypdb) (2.10)\n",
            "Installing collected packages: pypdb\n",
            "Successfully installed pypdb-2.2\n",
            "Looking in indexes: https://pypi.org/simple, https://us-python.pkg.dev/colab-wheels/public/simple/\n",
            "Collecting rdkit\n",
            "  Downloading rdkit-2022.9.2-cp37-cp37m-manylinux_2_17_x86_64.manylinux2014_x86_64.whl (29.1 MB)\n",
            "\u001b[K     |████████████████████████████████| 29.1 MB 1.2 MB/s \n",
            "\u001b[?25hRequirement already satisfied: numpy in /usr/local/lib/python3.7/dist-packages (from rdkit) (1.21.6)\n",
            "Requirement already satisfied: Pillow in /usr/local/lib/python3.7/dist-packages (from rdkit) (7.1.2)\n",
            "Installing collected packages: rdkit\n",
            "Successfully installed rdkit-2022.9.2\n"
          ]
        }
      ],
      "source": [
        "!pip install biotite\n",
        "!pip install redo\n",
        "!pip install urllib3\n",
        "!pip install requests_cache\n",
        "!pip install nglview\n",
        "!pip install pypdb\n",
        "!pip install rdkit"
      ]
    },
    {
      "cell_type": "code",
      "source": [
        "import numpy as np\n",
        "import matplotlib.pyplot as plt\n",
        "import biotite\n",
        "import biotite.database.rcsb as rcsb\n",
        "from datetime import datetime, time\n",
        "\n",
        "import collections\n",
        "import logging\n",
        "import pathlib\n",
        "import time\n",
        "import warnings\n",
        "import datetime\n",
        "\n",
        "import pandas as pd\n",
        "import matplotlib.pyplot as plt\n",
        "from bs4 import BeautifulSoup\n",
        "import requests\n",
        "import redo\n",
        "import requests_cache\n",
        "import nglview\n",
        "import pypdb\n",
        "import biotite.database.rcsb as rcsb\n",
        "from rdkit.Chem import Draw\n",
        "from rdkit.Chem import PandasTools"
      ],
      "metadata": {
        "colab": {
          "base_uri": "https://localhost:8080/",
          "height": 17,
          "referenced_widgets": [
            "9222e6053cf14e03b95c294ad22eea07"
          ]
        },
        "id": "axkHeVSex9DS",
        "outputId": "d04542d0-4b31-468c-b2b8-04514cb1de32"
      },
      "execution_count": null,
      "outputs": [
        {
          "output_type": "display_data",
          "data": {
            "text/plain": [],
            "application/vnd.jupyter.widget-view+json": {
              "version_major": 2,
              "version_minor": 0,
              "model_id": "9222e6053cf14e03b95c294ad22eea07"
            }
          },
          "metadata": {}
        }
      ]
    },
    {
      "cell_type": "code",
      "source": [
        "Dianas2  = {'Diana epigenética': ['DNMT1', 'DNMT3a', 'DNMT3b', 'Ep300', 'EZH2', 'HDAC1', 'HDAC2', 'HDAC4', 'HDAC5', 'HDAC7', 'HDAC8', 'HDAC9', 'HDAC10', 'HDAC11', 'LSD1', 'SIRT1', 'SIRT3', 'KDM1B', 'KDM6A', 'BRD4'],\n",
        "           'Herramienta epigenética': ['Escritor', 'Escritor', 'Escritor', 'Escritor', 'Escritor', 'Borrador', 'Borrador', 'Borrador',  'Borrador', 'Borrador', 'Borrador', 'Borrador', 'Borrador', 'Borrador', 'Borrador', 'Borrador', 'Borrador', 'Borrador', 'Borrador', 'Lector'],\n",
        "            'UniProt ID': ['P26358', 'Q9Y6K1', 'Q9UBC3', 'Q09472', 'Q15910', 'Q13547', 'Q92769', 'P56524',  'Q9UQL6', 'Q8WUI4', 'Q9BY41', 'Q9UKV0', 'Q969S8', 'Q96DB2', 'O60341', 'Q96EB6', 'Q9NTG7', 'Q8NB78', 'O15550', 'O60885'],\n",
        "            'Número total de estructuras en 2022': ['19', '18', '26', '26', '26', '8', '27', '17', '1', '5', '53', '0', '0', '0', '89', '8', '31', '12', '5', '477'],\n",
        "}\n",
        "\n",
        "Dianas2 = pd.DataFrame (Dianas2, columns= ['Diana epigenética','Herramienta epigenética', 'UniProt ID', 'Número total de estructuras en 2022'])\n",
        "\n",
        "Dianas2"
      ],
      "metadata": {
        "colab": {
          "base_uri": "https://localhost:8080/",
          "height": 676
        },
        "id": "XZwjpIWgyGfK",
        "outputId": "2e384c47-5c42-4440-b5d9-71b04a611bdd"
      },
      "execution_count": null,
      "outputs": [
        {
          "output_type": "execute_result",
          "data": {
            "text/plain": [
              "   Diana epigenética Herramienta epigenética UniProt ID  \\\n",
              "0              DNMT1                Escritor     P26358   \n",
              "1             DNMT3a                Escritor     Q9Y6K1   \n",
              "2             DNMT3b                Escritor     Q9UBC3   \n",
              "3              Ep300                Escritor     Q09472   \n",
              "4               EZH2                Escritor     Q15910   \n",
              "5              HDAC1                Borrador     Q13547   \n",
              "6              HDAC2                Borrador     Q92769   \n",
              "7              HDAC4                Borrador     P56524   \n",
              "8              HDAC5                Borrador     Q9UQL6   \n",
              "9              HDAC7                Borrador     Q8WUI4   \n",
              "10             HDAC8                Borrador     Q9BY41   \n",
              "11             HDAC9                Borrador     Q9UKV0   \n",
              "12            HDAC10                Borrador     Q969S8   \n",
              "13            HDAC11                Borrador     Q96DB2   \n",
              "14              LSD1                Borrador     O60341   \n",
              "15             SIRT1                Borrador     Q96EB6   \n",
              "16             SIRT3                Borrador     Q9NTG7   \n",
              "17             KDM1B                Borrador     Q8NB78   \n",
              "18             KDM6A                Borrador     O15550   \n",
              "19              BRD4                  Lector     O60885   \n",
              "\n",
              "   Número total de estructuras en 2022  \n",
              "0                                   19  \n",
              "1                                   18  \n",
              "2                                   26  \n",
              "3                                   26  \n",
              "4                                   26  \n",
              "5                                    8  \n",
              "6                                   27  \n",
              "7                                   17  \n",
              "8                                    1  \n",
              "9                                    5  \n",
              "10                                  53  \n",
              "11                                   0  \n",
              "12                                   0  \n",
              "13                                   0  \n",
              "14                                  89  \n",
              "15                                   8  \n",
              "16                                  31  \n",
              "17                                  12  \n",
              "18                                   5  \n",
              "19                                 477  "
            ],
            "text/html": [
              "\n",
              "  <div id=\"df-34d99526-47b4-488a-8853-1083b2ca0a30\">\n",
              "    <div class=\"colab-df-container\">\n",
              "      <div>\n",
              "<style scoped>\n",
              "    .dataframe tbody tr th:only-of-type {\n",
              "        vertical-align: middle;\n",
              "    }\n",
              "\n",
              "    .dataframe tbody tr th {\n",
              "        vertical-align: top;\n",
              "    }\n",
              "\n",
              "    .dataframe thead th {\n",
              "        text-align: right;\n",
              "    }\n",
              "</style>\n",
              "<table border=\"1\" class=\"dataframe\">\n",
              "  <thead>\n",
              "    <tr style=\"text-align: right;\">\n",
              "      <th></th>\n",
              "      <th>Diana epigenética</th>\n",
              "      <th>Herramienta epigenética</th>\n",
              "      <th>UniProt ID</th>\n",
              "      <th>Número total de estructuras en 2022</th>\n",
              "    </tr>\n",
              "  </thead>\n",
              "  <tbody>\n",
              "    <tr>\n",
              "      <th>0</th>\n",
              "      <td>DNMT1</td>\n",
              "      <td>Escritor</td>\n",
              "      <td>P26358</td>\n",
              "      <td>19</td>\n",
              "    </tr>\n",
              "    <tr>\n",
              "      <th>1</th>\n",
              "      <td>DNMT3a</td>\n",
              "      <td>Escritor</td>\n",
              "      <td>Q9Y6K1</td>\n",
              "      <td>18</td>\n",
              "    </tr>\n",
              "    <tr>\n",
              "      <th>2</th>\n",
              "      <td>DNMT3b</td>\n",
              "      <td>Escritor</td>\n",
              "      <td>Q9UBC3</td>\n",
              "      <td>26</td>\n",
              "    </tr>\n",
              "    <tr>\n",
              "      <th>3</th>\n",
              "      <td>Ep300</td>\n",
              "      <td>Escritor</td>\n",
              "      <td>Q09472</td>\n",
              "      <td>26</td>\n",
              "    </tr>\n",
              "    <tr>\n",
              "      <th>4</th>\n",
              "      <td>EZH2</td>\n",
              "      <td>Escritor</td>\n",
              "      <td>Q15910</td>\n",
              "      <td>26</td>\n",
              "    </tr>\n",
              "    <tr>\n",
              "      <th>5</th>\n",
              "      <td>HDAC1</td>\n",
              "      <td>Borrador</td>\n",
              "      <td>Q13547</td>\n",
              "      <td>8</td>\n",
              "    </tr>\n",
              "    <tr>\n",
              "      <th>6</th>\n",
              "      <td>HDAC2</td>\n",
              "      <td>Borrador</td>\n",
              "      <td>Q92769</td>\n",
              "      <td>27</td>\n",
              "    </tr>\n",
              "    <tr>\n",
              "      <th>7</th>\n",
              "      <td>HDAC4</td>\n",
              "      <td>Borrador</td>\n",
              "      <td>P56524</td>\n",
              "      <td>17</td>\n",
              "    </tr>\n",
              "    <tr>\n",
              "      <th>8</th>\n",
              "      <td>HDAC5</td>\n",
              "      <td>Borrador</td>\n",
              "      <td>Q9UQL6</td>\n",
              "      <td>1</td>\n",
              "    </tr>\n",
              "    <tr>\n",
              "      <th>9</th>\n",
              "      <td>HDAC7</td>\n",
              "      <td>Borrador</td>\n",
              "      <td>Q8WUI4</td>\n",
              "      <td>5</td>\n",
              "    </tr>\n",
              "    <tr>\n",
              "      <th>10</th>\n",
              "      <td>HDAC8</td>\n",
              "      <td>Borrador</td>\n",
              "      <td>Q9BY41</td>\n",
              "      <td>53</td>\n",
              "    </tr>\n",
              "    <tr>\n",
              "      <th>11</th>\n",
              "      <td>HDAC9</td>\n",
              "      <td>Borrador</td>\n",
              "      <td>Q9UKV0</td>\n",
              "      <td>0</td>\n",
              "    </tr>\n",
              "    <tr>\n",
              "      <th>12</th>\n",
              "      <td>HDAC10</td>\n",
              "      <td>Borrador</td>\n",
              "      <td>Q969S8</td>\n",
              "      <td>0</td>\n",
              "    </tr>\n",
              "    <tr>\n",
              "      <th>13</th>\n",
              "      <td>HDAC11</td>\n",
              "      <td>Borrador</td>\n",
              "      <td>Q96DB2</td>\n",
              "      <td>0</td>\n",
              "    </tr>\n",
              "    <tr>\n",
              "      <th>14</th>\n",
              "      <td>LSD1</td>\n",
              "      <td>Borrador</td>\n",
              "      <td>O60341</td>\n",
              "      <td>89</td>\n",
              "    </tr>\n",
              "    <tr>\n",
              "      <th>15</th>\n",
              "      <td>SIRT1</td>\n",
              "      <td>Borrador</td>\n",
              "      <td>Q96EB6</td>\n",
              "      <td>8</td>\n",
              "    </tr>\n",
              "    <tr>\n",
              "      <th>16</th>\n",
              "      <td>SIRT3</td>\n",
              "      <td>Borrador</td>\n",
              "      <td>Q9NTG7</td>\n",
              "      <td>31</td>\n",
              "    </tr>\n",
              "    <tr>\n",
              "      <th>17</th>\n",
              "      <td>KDM1B</td>\n",
              "      <td>Borrador</td>\n",
              "      <td>Q8NB78</td>\n",
              "      <td>12</td>\n",
              "    </tr>\n",
              "    <tr>\n",
              "      <th>18</th>\n",
              "      <td>KDM6A</td>\n",
              "      <td>Borrador</td>\n",
              "      <td>O15550</td>\n",
              "      <td>5</td>\n",
              "    </tr>\n",
              "    <tr>\n",
              "      <th>19</th>\n",
              "      <td>BRD4</td>\n",
              "      <td>Lector</td>\n",
              "      <td>O60885</td>\n",
              "      <td>477</td>\n",
              "    </tr>\n",
              "  </tbody>\n",
              "</table>\n",
              "</div>\n",
              "      <button class=\"colab-df-convert\" onclick=\"convertToInteractive('df-34d99526-47b4-488a-8853-1083b2ca0a30')\"\n",
              "              title=\"Convert this dataframe to an interactive table.\"\n",
              "              style=\"display:none;\">\n",
              "        \n",
              "  <svg xmlns=\"http://www.w3.org/2000/svg\" height=\"24px\"viewBox=\"0 0 24 24\"\n",
              "       width=\"24px\">\n",
              "    <path d=\"M0 0h24v24H0V0z\" fill=\"none\"/>\n",
              "    <path d=\"M18.56 5.44l.94 2.06.94-2.06 2.06-.94-2.06-.94-.94-2.06-.94 2.06-2.06.94zm-11 1L8.5 8.5l.94-2.06 2.06-.94-2.06-.94L8.5 2.5l-.94 2.06-2.06.94zm10 10l.94 2.06.94-2.06 2.06-.94-2.06-.94-.94-2.06-.94 2.06-2.06.94z\"/><path d=\"M17.41 7.96l-1.37-1.37c-.4-.4-.92-.59-1.43-.59-.52 0-1.04.2-1.43.59L10.3 9.45l-7.72 7.72c-.78.78-.78 2.05 0 2.83L4 21.41c.39.39.9.59 1.41.59.51 0 1.02-.2 1.41-.59l7.78-7.78 2.81-2.81c.8-.78.8-2.07 0-2.86zM5.41 20L4 18.59l7.72-7.72 1.47 1.35L5.41 20z\"/>\n",
              "  </svg>\n",
              "      </button>\n",
              "      \n",
              "  <style>\n",
              "    .colab-df-container {\n",
              "      display:flex;\n",
              "      flex-wrap:wrap;\n",
              "      gap: 12px;\n",
              "    }\n",
              "\n",
              "    .colab-df-convert {\n",
              "      background-color: #E8F0FE;\n",
              "      border: none;\n",
              "      border-radius: 50%;\n",
              "      cursor: pointer;\n",
              "      display: none;\n",
              "      fill: #1967D2;\n",
              "      height: 32px;\n",
              "      padding: 0 0 0 0;\n",
              "      width: 32px;\n",
              "    }\n",
              "\n",
              "    .colab-df-convert:hover {\n",
              "      background-color: #E2EBFA;\n",
              "      box-shadow: 0px 1px 2px rgba(60, 64, 67, 0.3), 0px 1px 3px 1px rgba(60, 64, 67, 0.15);\n",
              "      fill: #174EA6;\n",
              "    }\n",
              "\n",
              "    [theme=dark] .colab-df-convert {\n",
              "      background-color: #3B4455;\n",
              "      fill: #D2E3FC;\n",
              "    }\n",
              "\n",
              "    [theme=dark] .colab-df-convert:hover {\n",
              "      background-color: #434B5C;\n",
              "      box-shadow: 0px 1px 3px 1px rgba(0, 0, 0, 0.15);\n",
              "      filter: drop-shadow(0px 1px 2px rgba(0, 0, 0, 0.3));\n",
              "      fill: #FFFFFF;\n",
              "    }\n",
              "  </style>\n",
              "\n",
              "      <script>\n",
              "        const buttonEl =\n",
              "          document.querySelector('#df-34d99526-47b4-488a-8853-1083b2ca0a30 button.colab-df-convert');\n",
              "        buttonEl.style.display =\n",
              "          google.colab.kernel.accessAllowed ? 'block' : 'none';\n",
              "\n",
              "        async function convertToInteractive(key) {\n",
              "          const element = document.querySelector('#df-34d99526-47b4-488a-8853-1083b2ca0a30');\n",
              "          const dataTable =\n",
              "            await google.colab.kernel.invokeFunction('convertToInteractive',\n",
              "                                                     [key], {});\n",
              "          if (!dataTable) return;\n",
              "\n",
              "          const docLinkHtml = 'Like what you see? Visit the ' +\n",
              "            '<a target=\"_blank\" href=https://colab.research.google.com/notebooks/data_table.ipynb>data table notebook</a>'\n",
              "            + ' to learn more about interactive tables.';\n",
              "          element.innerHTML = '';\n",
              "          dataTable['output_type'] = 'display_data';\n",
              "          await google.colab.output.renderOutput(dataTable, element);\n",
              "          const docLink = document.createElement('div');\n",
              "          docLink.innerHTML = docLinkHtml;\n",
              "          element.appendChild(docLink);\n",
              "        }\n",
              "      </script>\n",
              "    </div>\n",
              "  </div>\n",
              "  "
            ]
          },
          "metadata": {},
          "execution_count": 3
        }
      ]
    },
    {
      "cell_type": "markdown",
      "source": [
        "## DNMT1"
      ],
      "metadata": {
        "id": "e596xyzJyHtS"
      }
    },
    {
      "cell_type": "code",
      "source": [
        "uniprot_id= \"P26358\"\n",
        "before_deposition_date = \"2022-09-01T00:00:00Z\"\n",
        "experimental_method = \"X-RAY DIFFRACTION\"\n",
        "max_resolution = 3.0\n",
        "n_chains = 2\n",
        "min_ligand_molecular_weight = 100.0\n",
        "\n",
        "query_by_uniprot_id = rcsb.FieldQuery(\n",
        "    \"rcsb_polymer_entity_container_identifiers.reference_sequence_identifiers.database_accession\",\n",
        "    exact_match=uniprot_id,\n",
        ")\n",
        "query_by_deposition_date = rcsb.FieldQuery(\n",
        "    \"rcsb_accession_info.deposit_date\", less=before_deposition_date\n",
        ")\n",
        "query_by_experimental_method = rcsb.FieldQuery(\"exptl.method\", exact_match=experimental_method)\n",
        "query_by_resolution = rcsb.FieldQuery(\n",
        "    \"rcsb_entry_info.resolution_combined\", less_or_equal=max_resolution\n",
        ")\n",
        "query_by_polymer_count = rcsb.FieldQuery(\n",
        "    \"rcsb_entry_info.deposited_polymer_entity_instance_count\", equals=n_chains\n",
        ")\n",
        "query_by_ligand_mw = rcsb.FieldQuery(\n",
        "    \"chem_comp.formula_weight\", molecular_definition=True, greater=min_ligand_molecular_weight\n",
        ")\n",
        "\n",
        "query = rcsb.CompositeQuery(\n",
        "    [\n",
        "        query_by_uniprot_id,\n",
        "        query_by_deposition_date,\n",
        "        query_by_experimental_method,\n",
        "        query_by_resolution,\n",
        "        query_by_polymer_count,\n",
        "        query_by_ligand_mw,\n",
        "    ],\n",
        "    \"and\",\n",
        ")\n",
        "pdb_ids = rcsb.search(query)\n",
        "print(f\"Number of matches: {len(pdb_ids)}\")\n",
        "print(\"Selected PDB IDs:\")\n",
        "print(*pdb_ids)"
      ],
      "metadata": {
        "colab": {
          "base_uri": "https://localhost:8080/"
        },
        "id": "bCiK0NACyNjz",
        "outputId": "d7942bd4-6f56-4e87-e808-2b77da23f5e4"
      },
      "execution_count": null,
      "outputs": [
        {
          "output_type": "stream",
          "name": "stdout",
          "text": [
            "Number of matches: 6\n",
            "Selected PDB IDs:\n",
            "4Z97 4Z96 4WXX 6L1F 3EPZ 4YOC\n"
          ]
        }
      ]
    },
    {
      "cell_type": "markdown",
      "source": [
        "## DNMT3a"
      ],
      "metadata": {
        "id": "8i-kclOFyPAx"
      }
    },
    {
      "cell_type": "code",
      "source": [
        "uniprot_id= \"Q9Y6K1\"\n",
        "before_deposition_date = \"2022-09-01T00:00:00Z\"\n",
        "experimental_method = \"X-RAY DIFFRACTION\"\n",
        "max_resolution = 3.0\n",
        "n_chains = 1\n",
        "min_ligand_molecular_weight = 100.0\n",
        "\n",
        "query_by_uniprot_id = rcsb.FieldQuery(\n",
        "    \"rcsb_polymer_entity_container_identifiers.reference_sequence_identifiers.database_accession\",\n",
        "    exact_match=uniprot_id,\n",
        ")\n",
        "query_by_deposition_date = rcsb.FieldQuery(\n",
        "    \"rcsb_accession_info.deposit_date\", less=before_deposition_date\n",
        ")\n",
        "query_by_experimental_method = rcsb.FieldQuery(\"exptl.method\", exact_match=experimental_method)\n",
        "query_by_resolution = rcsb.FieldQuery(\n",
        "    \"rcsb_entry_info.resolution_combined\", less_or_equal=max_resolution\n",
        ")\n",
        "query_by_polymer_count = rcsb.FieldQuery(\n",
        "    \"rcsb_entry_info.deposited_polymer_entity_instance_count\", equals=n_chains\n",
        ")\n",
        "query_by_ligand_mw = rcsb.FieldQuery(\n",
        "    \"chem_comp.formula_weight\", molecular_definition=True, greater=min_ligand_molecular_weight\n",
        ")\n",
        "\n",
        "query = rcsb.CompositeQuery(\n",
        "    [\n",
        "        query_by_uniprot_id,\n",
        "        query_by_experimental_method,\n",
        "        query_by_resolution,\n",
        "        query_by_polymer_count,\n",
        "        query_by_ligand_mw,\n",
        "    ],\n",
        "    \"and\",\n",
        ")\n",
        "pdb_ids = rcsb.search(query)\n",
        "print(f\"Number of matches: {len(pdb_ids)}\")\n",
        "print(\"Selected PDB IDs:\")\n",
        "print(*pdb_ids)"
      ],
      "metadata": {
        "colab": {
          "base_uri": "https://localhost:8080/"
        },
        "id": "eCM5j23IyRXz",
        "outputId": "9e97933a-cc50-43ea-af8b-08f195463c80"
      },
      "execution_count": null,
      "outputs": [
        {
          "output_type": "stream",
          "name": "stdout",
          "text": [
            "Number of matches: 3\n",
            "Selected PDB IDs:\n",
            "8BA5 3A1B 3A1A\n"
          ]
        }
      ]
    },
    {
      "cell_type": "markdown",
      "source": [
        "## DNMT3b"
      ],
      "metadata": {
        "id": "T0qDObv7yVFi"
      }
    },
    {
      "cell_type": "code",
      "source": [
        "uniprot_id= \"Q9UBC3\"\n",
        "before_deposition_date = \"2022-09-01T00:00:00Z\"\n",
        "experimental_method = \"X-RAY DIFFRACTION\"\n",
        "max_resolution = 3.0\n",
        "n_chains = 2\n",
        "min_ligand_molecular_weight = 100.0\n",
        "\n",
        "query_by_uniprot_id = rcsb.FieldQuery(\n",
        "    \"rcsb_polymer_entity_container_identifiers.reference_sequence_identifiers.database_accession\",\n",
        "    exact_match=uniprot_id,\n",
        ")\n",
        "query_by_deposition_date = rcsb.FieldQuery(\n",
        "    \"rcsb_accession_info.deposit_date\", less=before_deposition_date\n",
        ")\n",
        "query_by_experimental_method = rcsb.FieldQuery(\"exptl.method\", exact_match=experimental_method)\n",
        "query_by_resolution = rcsb.FieldQuery(\n",
        "    \"rcsb_entry_info.resolution_combined\", less_or_equal=max_resolution\n",
        ")\n",
        "query_by_polymer_count = rcsb.FieldQuery(\n",
        "    \"rcsb_entry_info.deposited_polymer_entity_instance_count\", equals=n_chains\n",
        ")\n",
        "query_by_ligand_mw = rcsb.FieldQuery(\n",
        "    \"chem_comp.formula_weight\", molecular_definition=True, greater=min_ligand_molecular_weight\n",
        ")\n",
        "\n",
        "query = rcsb.CompositeQuery(\n",
        "    [\n",
        "        query_by_uniprot_id,\n",
        "        query_by_deposition_date,\n",
        "        query_by_experimental_method,\n",
        "        query_by_resolution,\n",
        "        query_by_polymer_count,\n",
        "        query_by_ligand_mw,\n",
        "    ],\n",
        "    \"and\",\n",
        ")\n",
        "pdb_ids = rcsb.search(query)\n",
        "print(f\"Number of matches: {len(pdb_ids)}\")\n",
        "print(\"Selected PDB IDs:\")\n",
        "print(*pdb_ids)"
      ],
      "metadata": {
        "colab": {
          "base_uri": "https://localhost:8080/"
        },
        "id": "rk0xeqRByYp6",
        "outputId": "20ae661b-fa70-4f48-be45-3363e92dca38"
      },
      "execution_count": null,
      "outputs": [
        {
          "output_type": "stream",
          "name": "stdout",
          "text": [
            "Number of matches: 9\n",
            "Selected PDB IDs:\n",
            "5NV2 5NV0 5NVO 5NRV 6R3E 5NRR 5NV7 5NR3 5NRS\n"
          ]
        }
      ]
    },
    {
      "cell_type": "markdown",
      "source": [
        "## Ep300"
      ],
      "metadata": {
        "id": "NFS-4tfbyZTk"
      }
    },
    {
      "cell_type": "code",
      "source": [
        "uniprot_id= \"Q09472\"\n",
        "before_deposition_date = \"2022-09-01T00:00:00Z\"\n",
        "experimental_method = \"X-RAY DIFFRACTION\"\n",
        "max_resolution = 3.0\n",
        "n_chains = 2\n",
        "min_ligand_molecular_weight = 100.0\n",
        "\n",
        "query_by_uniprot_id = rcsb.FieldQuery(\n",
        "    \"rcsb_polymer_entity_container_identifiers.reference_sequence_identifiers.database_accession\",\n",
        "    exact_match=uniprot_id,\n",
        ")\n",
        "query_by_experimental_method = rcsb.FieldQuery(\"exptl.method\", exact_match=experimental_method)\n",
        "query_by_resolution = rcsb.FieldQuery(\n",
        "    \"rcsb_entry_info.resolution_combined\", less_or_equal=max_resolution\n",
        ")\n",
        "query_by_polymer_count = rcsb.FieldQuery(\n",
        "    \"rcsb_entry_info.deposited_polymer_entity_instance_count\", equals=n_chains\n",
        ")\n",
        "query_by_ligand_mw = rcsb.FieldQuery(\n",
        "    \"chem_comp.formula_weight\", molecular_definition=True, greater=min_ligand_molecular_weight\n",
        ")\n",
        "\n",
        "query = rcsb.CompositeQuery(\n",
        "    [\n",
        "        query_by_uniprot_id,\n",
        "        query_by_experimental_method,\n",
        "        query_by_resolution,\n",
        "        query_by_polymer_count,\n",
        "        query_by_ligand_mw,\n",
        "    ],\n",
        "    \"and\",\n",
        ")\n",
        "pdb_ids = rcsb.search(query)\n",
        "print(f\"Number of matches: {len(pdb_ids)}\")\n",
        "print(\"Selected PDB IDs:\")\n",
        "print(*pdb_ids)"
      ],
      "metadata": {
        "colab": {
          "base_uri": "https://localhost:8080/"
        },
        "id": "nVmoJMpnydY-",
        "outputId": "a4cabe62-9cd1-4824-b586-3974d98daff5"
      },
      "execution_count": null,
      "outputs": [
        {
          "output_type": "stream",
          "name": "stdout",
          "text": [
            "Number of matches: 9\n",
            "Selected PDB IDs:\n",
            "7VI0 7QGS 6PGU 6PF1 7VHZ 5LPM 7VHY 4BHW 5NU5\n"
          ]
        }
      ]
    },
    {
      "cell_type": "markdown",
      "source": [
        "## EZH2"
      ],
      "metadata": {
        "id": "T-kQpFgVygJ6"
      }
    },
    {
      "cell_type": "code",
      "source": [
        "uniprot_id= \"Q15910\"\n",
        "before_deposition_date = \"2022-09-01T00:00:00Z\"\n",
        "experimental_method = \"X-RAY DIFFRACTION\"\n",
        "max_resolution = 3.0\n",
        "n_chains = 1\n",
        "min_ligand_molecular_weight = 100.0\n",
        "\n",
        "query_by_uniprot_id = rcsb.FieldQuery(\n",
        "    \"rcsb_polymer_entity_container_identifiers.reference_sequence_identifiers.database_accession\",\n",
        "    exact_match=uniprot_id,\n",
        ")\n",
        "query_by_experimental_method = rcsb.FieldQuery(\"exptl.method\", exact_match=experimental_method)\n",
        "query_by_resolution = rcsb.FieldQuery(\n",
        "    \"rcsb_entry_info.resolution_combined\", less_or_equal=max_resolution\n",
        ")\n",
        "query_by_polymer_count = rcsb.FieldQuery(\n",
        "    \"rcsb_entry_info.deposited_polymer_entity_instance_count\", equals=n_chains\n",
        ")\n",
        "query_by_ligand_mw = rcsb.FieldQuery(\n",
        "    \"chem_comp.formula_weight\", molecular_definition=True, greater=min_ligand_molecular_weight\n",
        ")\n",
        "\n",
        "query = rcsb.CompositeQuery(\n",
        "    [\n",
        "        query_by_uniprot_id,\n",
        "        query_by_experimental_method,\n",
        "        query_by_resolution,\n",
        "        query_by_polymer_count,\n",
        "        query_by_ligand_mw,\n",
        "    ],\n",
        "    \"and\",\n",
        ")\n",
        "pdb_ids = rcsb.search(query)\n",
        "print(f\"Number of matches: {len(pdb_ids)}\")\n",
        "print(\"Selected PDB IDs:\")\n",
        "print(*pdb_ids)"
      ],
      "metadata": {
        "colab": {
          "base_uri": "https://localhost:8080/"
        },
        "id": "qjBda7q7yimH",
        "outputId": "973f0a04-75e5-4a66-febd-c553f4db03e4"
      },
      "execution_count": null,
      "outputs": [
        {
          "output_type": "stream",
          "name": "stdout",
          "text": [
            "Number of matches: 2\n",
            "Selected PDB IDs:\n",
            "4MI5 4MI0\n"
          ]
        }
      ]
    },
    {
      "cell_type": "markdown",
      "source": [
        "## HDAC1"
      ],
      "metadata": {
        "id": "MXKIyXBYylSz"
      }
    },
    {
      "cell_type": "code",
      "source": [
        "uniprot_id= \"Q13547\"\n",
        "before_deposition_date = \"2022-09-01T00:00:00Z\"\n",
        "experimental_method = \"X-RAY DIFFRACTION\"\n",
        "max_resolution = 3.0\n",
        "n_chains = 2\n",
        "min_ligand_molecular_weight = 100.0\n",
        "\n",
        "query_by_uniprot_id = rcsb.FieldQuery(\n",
        "    \"rcsb_polymer_entity_container_identifiers.reference_sequence_identifiers.database_accession\",\n",
        "    exact_match=uniprot_id,\n",
        ")\n",
        "query_by_experimental_method = rcsb.FieldQuery(\"exptl.method\", exact_match=experimental_method)\n",
        "query_by_resolution = rcsb.FieldQuery(\n",
        "    \"rcsb_entry_info.resolution_combined\", less_or_equal=max_resolution\n",
        ")\n",
        "query_by_polymer_count = rcsb.FieldQuery(\n",
        "    \"rcsb_entry_info.deposited_polymer_entity_instance_count\", equals=n_chains\n",
        ")\n",
        "query_by_ligand_mw = rcsb.FieldQuery(\n",
        "    \"chem_comp.formula_weight\", molecular_definition=True, greater=min_ligand_molecular_weight\n",
        ")\n",
        "\n",
        "query = rcsb.CompositeQuery(\n",
        "    [\n",
        "        query_by_uniprot_id,\n",
        "        query_by_experimental_method,\n",
        "        query_by_resolution,\n",
        "        query_by_polymer_count,\n",
        "        query_by_ligand_mw,\n",
        "    ],\n",
        "    \"and\",\n",
        ")\n",
        "pdb_ids = rcsb.search(query)\n",
        "print(f\"Number of matches: {len(pdb_ids)}\")\n",
        "print(\"Selected PDB IDs:\")\n",
        "print(*pdb_ids)"
      ],
      "metadata": {
        "colab": {
          "base_uri": "https://localhost:8080/"
        },
        "id": "t88wmtF9ymGl",
        "outputId": "99844b49-a96d-46c5-a0b2-3df89b15890d"
      },
      "execution_count": null,
      "outputs": [
        {
          "output_type": "stream",
          "name": "stdout",
          "text": [
            "Number of matches: 2\n",
            "Selected PDB IDs:\n",
            "7SME 4BKX\n"
          ]
        }
      ]
    },
    {
      "cell_type": "markdown",
      "source": [
        "## HDAC2"
      ],
      "metadata": {
        "id": "x6-l4tlSypLK"
      }
    },
    {
      "cell_type": "code",
      "source": [
        "uniprot_id= \"Q92769\"\n",
        "before_deposition_date = \"2022-09-01T00:00:00Z\"\n",
        "experimental_method = \"X-RAY DIFFRACTION\"\n",
        "max_resolution = 3.0\n",
        "n_chains = 3\n",
        "min_ligand_molecular_weight = 100.0\n",
        "\n",
        "query_by_uniprot_id = rcsb.FieldQuery(\n",
        "    \"rcsb_polymer_entity_container_identifiers.reference_sequence_identifiers.database_accession\",\n",
        "    exact_match=uniprot_id,\n",
        ")\n",
        "query_by_experimental_method = rcsb.FieldQuery(\"exptl.method\", exact_match=experimental_method)\n",
        "query_by_resolution = rcsb.FieldQuery(\n",
        "    \"rcsb_entry_info.resolution_combined\", less_or_equal=max_resolution\n",
        ")\n",
        "query_by_polymer_count = rcsb.FieldQuery(\n",
        "    \"rcsb_entry_info.deposited_polymer_entity_instance_count\", equals=n_chains\n",
        ")\n",
        "query_by_ligand_mw = rcsb.FieldQuery(\n",
        "    \"chem_comp.formula_weight\", molecular_definition=True, greater=min_ligand_molecular_weight\n",
        ")\n",
        "\n",
        "query = rcsb.CompositeQuery(\n",
        "    [\n",
        "        query_by_uniprot_id,\n",
        "        query_by_experimental_method,\n",
        "        query_by_resolution,\n",
        "        query_by_polymer_count,\n",
        "        query_by_ligand_mw,\n",
        "    ],\n",
        "    \"and\",\n",
        ")\n",
        "pdb_ids = rcsb.search(query)\n",
        "print(f\"Number of matches: {len(pdb_ids)}\")\n",
        "print(\"Selected PDB IDs:\")\n",
        "print(*pdb_ids)"
      ],
      "metadata": {
        "colab": {
          "base_uri": "https://localhost:8080/"
        },
        "id": "0Q7JQISMyrb3",
        "outputId": "2a3eea65-498a-4826-aa26-477a2c8e2076"
      },
      "execution_count": null,
      "outputs": [
        {
          "output_type": "stream",
          "name": "stdout",
          "text": [
            "Number of matches: 30\n",
            "Selected PDB IDs:\n",
            "5IWG 4LY1 6G3O 5IX0 7MOY 7MOX 7MOS 4LXZ 8A0B 7MOT 7LTG 7MOZ 7LTL 6XDM 7LTK 7ZZO 7JS8 6WBW 3MAX 7ZZU 6XEB 7ZZT 6XEC 7ZZW 7KBH 7ZZP 7KBG 7ZZS 6WBZ 7ZZR\n"
          ]
        }
      ]
    },
    {
      "cell_type": "markdown",
      "source": [
        "## HDAC4"
      ],
      "metadata": {
        "id": "EzEFifZwyt27"
      }
    },
    {
      "cell_type": "code",
      "source": [
        "uniprot_id= \"P56524\"\n",
        "before_deposition_date = \"2022-09-01T00:00:00Z\"\n",
        "experimental_method = \"X-RAY DIFFRACTION\"\n",
        "max_resolution = 3.0\n",
        "n_chains = 2\n",
        "min_ligand_molecular_weight = 100.0\n",
        "\n",
        "query_by_uniprot_id = rcsb.FieldQuery(\n",
        "    \"rcsb_polymer_entity_container_identifiers.reference_sequence_identifiers.database_accession\",\n",
        "    exact_match=uniprot_id,\n",
        ")\n",
        "query_by_experimental_method = rcsb.FieldQuery(\"exptl.method\", exact_match=experimental_method)\n",
        "query_by_resolution = rcsb.FieldQuery(\n",
        "    \"rcsb_entry_info.resolution_combined\", less_or_equal=max_resolution\n",
        ")\n",
        "query_by_polymer_count = rcsb.FieldQuery(\n",
        "    \"rcsb_entry_info.deposited_polymer_entity_instance_count\", equals=n_chains\n",
        ")\n",
        "query_by_ligand_mw = rcsb.FieldQuery(\n",
        "    \"chem_comp.formula_weight\", molecular_definition=True, greater=min_ligand_molecular_weight\n",
        ")\n",
        "\n",
        "query = rcsb.CompositeQuery(\n",
        "    [\n",
        "        query_by_uniprot_id,\n",
        "        query_by_experimental_method,\n",
        "        query_by_resolution,\n",
        "        query_by_polymer_count,\n",
        "        query_by_ligand_mw,\n",
        "    ],\n",
        "    \"and\",\n",
        ")\n",
        "pdb_ids = rcsb.search(query)\n",
        "print(f\"Number of matches: {len(pdb_ids)}\")\n",
        "print(\"Selected PDB IDs:\")\n",
        "print(*pdb_ids)"
      ],
      "metadata": {
        "colab": {
          "base_uri": "https://localhost:8080/"
        },
        "id": "fv13etXFyxd3",
        "outputId": "df901b5e-33d8-478f-c0a5-bfa03502e1f4"
      },
      "execution_count": null,
      "outputs": [
        {
          "output_type": "stream",
          "name": "stdout",
          "text": [
            "Number of matches: 8\n",
            "Selected PDB IDs:\n",
            "5ZOO 5ZOP 2VQQ 2VQO 3V31 3UXG 5A2S 3UZD\n"
          ]
        }
      ]
    },
    {
      "cell_type": "markdown",
      "source": [
        "## HDAC5"
      ],
      "metadata": {
        "id": "a-VVOsXLyzkD"
      }
    },
    {
      "cell_type": "code",
      "source": [
        "uniprot_id= \"Q9UQL6\"\n",
        "before_deposition_date = \"2022-09-01T00:00:00Z\"\n",
        "experimental_method = \"X-RAY DIFFRACTION\"\n",
        "max_resolution = 3.0\n",
        "n_chains = 4\n",
        "min_ligand_molecular_weight = 100.0\n",
        "\n",
        "query_by_uniprot_id = rcsb.FieldQuery(\n",
        "    \"rcsb_polymer_entity_container_identifiers.reference_sequence_identifiers.database_accession\",\n",
        "    exact_match=uniprot_id,\n",
        ")\n",
        "query_by_experimental_method = rcsb.FieldQuery(\"exptl.method\", exact_match=experimental_method)\n",
        "query_by_resolution = rcsb.FieldQuery(\n",
        "    \"rcsb_entry_info.resolution_combined\", less_or_equal=max_resolution\n",
        ")\n",
        "query_by_polymer_count = rcsb.FieldQuery(\n",
        "    \"rcsb_entry_info.deposited_polymer_entity_instance_count\", equals=n_chains\n",
        ")\n",
        "query_by_ligand_mw = rcsb.FieldQuery(\n",
        "    \"chem_comp.formula_weight\", molecular_definition=True, greater=min_ligand_molecular_weight\n",
        ")\n",
        "\n",
        "query = rcsb.CompositeQuery(\n",
        "    [\n",
        "        query_by_uniprot_id,\n",
        "        query_by_experimental_method,\n",
        "        query_by_resolution,\n",
        "        query_by_polymer_count,\n",
        "        query_by_ligand_mw,\n",
        "    ],\n",
        "    \"and\",\n",
        ")\n",
        "pdb_ids = rcsb.search(query)\n",
        "print(f\"Number of matches: {len(pdb_ids)}\")\n",
        "print(\"Selected PDB IDs:\")\n",
        "print(*pdb_ids)"
      ],
      "metadata": {
        "colab": {
          "base_uri": "https://localhost:8080/"
        },
        "id": "DHAvFlKuy3NM",
        "outputId": "f207d7db-20a7-4a99-94bd-d2ce8389b60d"
      },
      "execution_count": null,
      "outputs": [
        {
          "output_type": "stream",
          "name": "stdout",
          "text": [
            "Number of matches: 1\n",
            "Selected PDB IDs:\n",
            "5UWI\n"
          ]
        }
      ]
    },
    {
      "cell_type": "markdown",
      "source": [
        "## HDAC7"
      ],
      "metadata": {
        "id": "bLZJRPhPy6YK"
      }
    },
    {
      "cell_type": "code",
      "source": [
        "uniprot_id= \"Q8WUI4\"\n",
        "before_deposition_date = \"2022-09-01T00:00:00Z\"\n",
        "experimental_method = \"X-RAY DIFFRACTION\"\n",
        "max_resolution = 3.0\n",
        "n_chains = 3\n",
        "min_ligand_molecular_weight = 100.0\n",
        "\n",
        "query_by_uniprot_id = rcsb.FieldQuery(\n",
        "    \"rcsb_polymer_entity_container_identifiers.reference_sequence_identifiers.database_accession\",\n",
        "    exact_match=uniprot_id,\n",
        ")\n",
        "query_by_experimental_method = rcsb.FieldQuery(\"exptl.method\", exact_match=experimental_method)\n",
        "query_by_resolution = rcsb.FieldQuery(\n",
        "    \"rcsb_entry_info.resolution_combined\", less_or_equal=max_resolution\n",
        ")\n",
        "query_by_polymer_count = rcsb.FieldQuery(\n",
        "    \"rcsb_entry_info.deposited_polymer_entity_instance_count\", equals=n_chains\n",
        ")\n",
        "query_by_ligand_mw = rcsb.FieldQuery(\n",
        "    \"chem_comp.formula_weight\", molecular_definition=True, greater=min_ligand_molecular_weight\n",
        ")\n",
        "\n",
        "query = rcsb.CompositeQuery(\n",
        "    [\n",
        "        query_by_uniprot_id,\n",
        "        query_by_experimental_method,\n",
        "        query_by_resolution,\n",
        "        query_by_polymer_count,\n",
        "        query_by_ligand_mw,\n",
        "    ],\n",
        "    \"and\",\n",
        ")\n",
        "pdb_ids = rcsb.search(query)\n",
        "print(f\"Number of matches: {len(pdb_ids)}\")\n",
        "print(\"Selected PDB IDs:\")\n",
        "print(*pdb_ids)"
      ],
      "metadata": {
        "colab": {
          "base_uri": "https://localhost:8080/"
        },
        "id": "GOvbBVply7jy",
        "outputId": "59d04b97-1aa3-4de2-d276-dad116bd662d"
      },
      "execution_count": null,
      "outputs": [
        {
          "output_type": "stream",
          "name": "stdout",
          "text": [
            "Number of matches: 5\n",
            "Selected PDB IDs:\n",
            "3C10 3ZNS 3ZNR 3C0Z 3C0Y\n"
          ]
        }
      ]
    },
    {
      "cell_type": "markdown",
      "source": [
        "## HDAC8"
      ],
      "metadata": {
        "id": "0DkNcOjFzG5L"
      }
    },
    {
      "cell_type": "code",
      "source": [
        "uniprot_id= \"Q9BY41\"\n",
        "before_deposition_date = \"2022-09-01T00:00:00Z\"\n",
        "experimental_method = \"X-RAY DIFFRACTION\"\n",
        "max_resolution = 3.0\n",
        "n_chains = 1\n",
        "min_ligand_molecular_weight = 100.0\n",
        "\n",
        "query_by_uniprot_id = rcsb.FieldQuery(\n",
        "    \"rcsb_polymer_entity_container_identifiers.reference_sequence_identifiers.database_accession\",\n",
        "    exact_match=uniprot_id,\n",
        ")\n",
        "query_by_experimental_method = rcsb.FieldQuery(\"exptl.method\", exact_match=experimental_method)\n",
        "query_by_resolution = rcsb.FieldQuery(\n",
        "    \"rcsb_entry_info.resolution_combined\", less_or_equal=max_resolution\n",
        ")\n",
        "query_by_polymer_count = rcsb.FieldQuery(\n",
        "    \"rcsb_entry_info.deposited_polymer_entity_instance_count\", equals=n_chains\n",
        ")\n",
        "query_by_ligand_mw = rcsb.FieldQuery(\n",
        "    \"chem_comp.formula_weight\", molecular_definition=True, greater=min_ligand_molecular_weight\n",
        ")\n",
        "\n",
        "query = rcsb.CompositeQuery(\n",
        "    [\n",
        "        query_by_uniprot_id,\n",
        "        query_by_experimental_method,\n",
        "        query_by_resolution,\n",
        "        query_by_polymer_count,\n",
        "        query_by_ligand_mw,\n",
        "    ],\n",
        "    \"and\",\n",
        ")\n",
        "pdb_ids = rcsb.search(query)\n",
        "print(f\"Number of matches: {len(pdb_ids)}\")\n",
        "print(\"Selected PDB IDs:\")\n",
        "print(*pdb_ids)"
      ],
      "metadata": {
        "colab": {
          "base_uri": "https://localhost:8080/"
        },
        "id": "1Q87QUavzKyQ",
        "outputId": "bba0fbd0-f7c5-44fa-d793-9a13fa74fed5"
      },
      "execution_count": null,
      "outputs": [
        {
          "output_type": "stream",
          "name": "stdout",
          "text": [
            "Number of matches: 8\n",
            "Selected PDB IDs:\n",
            "3MZ7 3MZ6 3EW8 3SFH 3SFF 4QA4 1T67 1T69\n"
          ]
        }
      ]
    },
    {
      "cell_type": "markdown",
      "source": [
        "## HDAC9"
      ],
      "metadata": {
        "id": "NgzTfed5zLTY"
      }
    },
    {
      "cell_type": "code",
      "source": [
        "uniprot_id= \"Q9UKV0\"\n",
        "before_deposition_date = \"2022-09-01T00:00:00Z\"\n",
        "experimental_method = \"X-RAY DIFFRACTION\"\n",
        "max_resolution = 3.0\n",
        "n_chains = 1\n",
        "min_ligand_molecular_weight = 100.0\n",
        "\n",
        "query_by_uniprot_id = rcsb.FieldQuery(\n",
        "    \"rcsb_polymer_entity_container_identifiers.reference_sequence_identifiers.database_accession\",\n",
        "    exact_match=uniprot_id,\n",
        ")\n",
        "query_by_experimental_method = rcsb.FieldQuery(\"exptl.method\", exact_match=experimental_method)\n",
        "query_by_resolution = rcsb.FieldQuery(\n",
        "    \"rcsb_entry_info.resolution_combined\", less_or_equal=max_resolution\n",
        ")\n",
        "query_by_polymer_count = rcsb.FieldQuery(\n",
        "    \"rcsb_entry_info.deposited_polymer_entity_instance_count\", equals=n_chains\n",
        ")\n",
        "query_by_ligand_mw = rcsb.FieldQuery(\n",
        "    \"chem_comp.formula_weight\", molecular_definition=True, greater=min_ligand_molecular_weight\n",
        ")\n",
        "\n",
        "query = rcsb.CompositeQuery(\n",
        "    [\n",
        "        query_by_uniprot_id,\n",
        "        query_by_experimental_method,\n",
        "        query_by_resolution,\n",
        "        query_by_polymer_count,\n",
        "        query_by_ligand_mw,\n",
        "    ],\n",
        "    \"and\",\n",
        ")\n",
        "pdb_ids = rcsb.search(query)\n",
        "print(f\"Number of matches: {len(pdb_ids)}\")\n",
        "print(\"Selected PDB IDs:\")\n",
        "print(*pdb_ids)"
      ],
      "metadata": {
        "colab": {
          "base_uri": "https://localhost:8080/"
        },
        "id": "G3G8ZhB1zNZa",
        "outputId": "face7d3a-25fc-4251-cfd6-43e5dbc36bab"
      },
      "execution_count": null,
      "outputs": [
        {
          "output_type": "stream",
          "name": "stdout",
          "text": [
            "Number of matches: 0\n",
            "Selected PDB IDs:\n",
            "\n"
          ]
        }
      ]
    },
    {
      "cell_type": "markdown",
      "source": [
        "## HDAC10"
      ],
      "metadata": {
        "id": "qGHki2-uzQl7"
      }
    },
    {
      "cell_type": "code",
      "source": [
        "uniprot_id= \"Q969S8\"\n",
        "before_deposition_date = \"2022-09-01T00:00:00Z\"\n",
        "experimental_method = \"X-RAY DIFFRACTION\"\n",
        "max_resolution = 3.0\n",
        "n_chains = 1\n",
        "min_ligand_molecular_weight = 100.0\n",
        "\n",
        "query_by_uniprot_id = rcsb.FieldQuery(\n",
        "    \"rcsb_polymer_entity_container_identifiers.reference_sequence_identifiers.database_accession\",\n",
        "    exact_match=uniprot_id,\n",
        ")\n",
        "query_by_experimental_method = rcsb.FieldQuery(\"exptl.method\", exact_match=experimental_method)\n",
        "query_by_resolution = rcsb.FieldQuery(\n",
        "    \"rcsb_entry_info.resolution_combined\", less_or_equal=max_resolution\n",
        ")\n",
        "query_by_polymer_count = rcsb.FieldQuery(\n",
        "    \"rcsb_entry_info.deposited_polymer_entity_instance_count\", equals=n_chains\n",
        ")\n",
        "query_by_ligand_mw = rcsb.FieldQuery(\n",
        "    \"chem_comp.formula_weight\", molecular_definition=True, greater=min_ligand_molecular_weight\n",
        ")\n",
        "\n",
        "query = rcsb.CompositeQuery(\n",
        "    [\n",
        "        query_by_uniprot_id,\n",
        "        query_by_experimental_method,\n",
        "        query_by_resolution,\n",
        "        query_by_polymer_count,\n",
        "        query_by_ligand_mw,\n",
        "    ],\n",
        "    \"and\",\n",
        ")\n",
        "pdb_ids = rcsb.search(query)\n",
        "print(f\"Number of matches: {len(pdb_ids)}\")\n",
        "print(\"Selected PDB IDs:\")\n",
        "print(*pdb_ids)"
      ],
      "metadata": {
        "colab": {
          "base_uri": "https://localhost:8080/"
        },
        "id": "6-Ss1P3mzRWK",
        "outputId": "4e5e8ef7-bcb5-4e06-ef92-5329e6f84c49"
      },
      "execution_count": null,
      "outputs": [
        {
          "output_type": "stream",
          "name": "stdout",
          "text": [
            "Number of matches: 0\n",
            "Selected PDB IDs:\n",
            "\n"
          ]
        }
      ]
    },
    {
      "cell_type": "markdown",
      "source": [
        "## HDAC11"
      ],
      "metadata": {
        "id": "Y2Mo9GKRzVCC"
      }
    },
    {
      "cell_type": "code",
      "source": [
        "uniprot_id= \"Q96DB2\"\n",
        "before_deposition_date = \"2022-09-01T00:00:00Z\"\n",
        "experimental_method = \"X-RAY DIFFRACTION\"\n",
        "max_resolution = 3.0\n",
        "n_chains = 1\n",
        "min_ligand_molecular_weight = 100.0\n",
        "\n",
        "query_by_uniprot_id = rcsb.FieldQuery(\n",
        "    \"rcsb_polymer_entity_container_identifiers.reference_sequence_identifiers.database_accession\",\n",
        "    exact_match=uniprot_id,\n",
        ")\n",
        "query_by_experimental_method = rcsb.FieldQuery(\"exptl.method\", exact_match=experimental_method)\n",
        "query_by_resolution = rcsb.FieldQuery(\n",
        "    \"rcsb_entry_info.resolution_combined\", less_or_equal=max_resolution\n",
        ")\n",
        "query_by_polymer_count = rcsb.FieldQuery(\n",
        "    \"rcsb_entry_info.deposited_polymer_entity_instance_count\", equals=n_chains\n",
        ")\n",
        "query_by_ligand_mw = rcsb.FieldQuery(\n",
        "    \"chem_comp.formula_weight\", molecular_definition=True, greater=min_ligand_molecular_weight\n",
        ")\n",
        "\n",
        "query = rcsb.CompositeQuery(\n",
        "    [\n",
        "        query_by_uniprot_id,\n",
        "        query_by_experimental_method,\n",
        "        query_by_resolution,\n",
        "        query_by_polymer_count,\n",
        "        query_by_ligand_mw,\n",
        "    ],\n",
        "    \"and\",\n",
        ")\n",
        "pdb_ids = rcsb.search(query)\n",
        "print(f\"Number of matches: {len(pdb_ids)}\")\n",
        "print(\"Selected PDB IDs:\")\n",
        "print(*pdb_ids)"
      ],
      "metadata": {
        "colab": {
          "base_uri": "https://localhost:8080/"
        },
        "id": "jLQ8sKnozXvu",
        "outputId": "364a4a68-6df9-4463-e838-732e2cc8ff1b"
      },
      "execution_count": null,
      "outputs": [
        {
          "output_type": "stream",
          "name": "stdout",
          "text": [
            "Number of matches: 0\n",
            "Selected PDB IDs:\n",
            "\n"
          ]
        }
      ]
    },
    {
      "cell_type": "markdown",
      "source": [
        "## LSD1"
      ],
      "metadata": {
        "id": "MfSPERQhzamS"
      }
    },
    {
      "cell_type": "code",
      "source": [
        "uniprot_id= \"O60341\"\n",
        "before_deposition_date = \"2022-09-01T00:00:00Z\"\n",
        "experimental_method = \"X-RAY DIFFRACTION\"\n",
        "max_resolution = 3.0\n",
        "n_chains = 1\n",
        "min_ligand_molecular_weight = 100.0\n",
        "\n",
        "query_by_uniprot_id = rcsb.FieldQuery(\n",
        "    \"rcsb_polymer_entity_container_identifiers.reference_sequence_identifiers.database_accession\",\n",
        "    exact_match=uniprot_id,\n",
        ")\n",
        "query_by_experimental_method = rcsb.FieldQuery(\"exptl.method\", exact_match=experimental_method)\n",
        "query_by_resolution = rcsb.FieldQuery(\n",
        "    \"rcsb_entry_info.resolution_combined\", less_or_equal=max_resolution\n",
        ")\n",
        "query_by_polymer_count = rcsb.FieldQuery(\n",
        "    \"rcsb_entry_info.deposited_polymer_entity_instance_count\", equals=n_chains\n",
        ")\n",
        "query_by_ligand_mw = rcsb.FieldQuery(\n",
        "    \"chem_comp.formula_weight\", molecular_definition=True, greater=min_ligand_molecular_weight\n",
        ")\n",
        "\n",
        "query = rcsb.CompositeQuery(\n",
        "    [\n",
        "        query_by_uniprot_id,\n",
        "        query_by_experimental_method,\n",
        "        query_by_resolution,\n",
        "        query_by_polymer_count,\n",
        "        query_by_ligand_mw,\n",
        "    ],\n",
        "    \"and\",\n",
        ")\n",
        "pdb_ids = rcsb.search(query)\n",
        "print(f\"Number of matches: {len(pdb_ids)}\")\n",
        "print(\"Selected PDB IDs:\")\n",
        "print(*pdb_ids)"
      ],
      "metadata": {
        "colab": {
          "base_uri": "https://localhost:8080/"
        },
        "id": "TbIn22-0zdGz",
        "outputId": "07d55864-817f-4d70-cc76-cf17a0b2ef22"
      },
      "execution_count": null,
      "outputs": [
        {
          "output_type": "stream",
          "name": "stdout",
          "text": [
            "Number of matches: 19\n",
            "Selected PDB IDs:\n",
            "2Z5U 7E0G 7XW8 7VQT 7VQS 2DW4 7VQU 2Z3Y 2HKO 2EJR 6NQM 6KGQ 2H94 6KGR 6KGO 6KGP 6NR5 7W3L 6NQU\n"
          ]
        }
      ]
    },
    {
      "cell_type": "markdown",
      "source": [
        "## SIRT1"
      ],
      "metadata": {
        "id": "ngIRDZ4Uzd2a"
      }
    },
    {
      "cell_type": "code",
      "source": [
        "uniprot_id= \"Q96EB6\"\n",
        "before_deposition_date = \"2022-09-01T00:00:00Z\"\n",
        "experimental_method = \"X-RAY DIFFRACTION\"\n",
        "max_resolution = 3.0\n",
        "n_chains = 2\n",
        "min_ligand_molecular_weight = 100.0\n",
        "\n",
        "query_by_uniprot_id = rcsb.FieldQuery(\n",
        "    \"rcsb_polymer_entity_container_identifiers.reference_sequence_identifiers.database_accession\",\n",
        "    exact_match=uniprot_id,\n",
        ")\n",
        "query_by_experimental_method = rcsb.FieldQuery(\"exptl.method\", exact_match=experimental_method)\n",
        "query_by_resolution = rcsb.FieldQuery(\n",
        "    \"rcsb_entry_info.resolution_combined\", less_or_equal=max_resolution\n",
        ")\n",
        "query_by_polymer_count = rcsb.FieldQuery(\n",
        "    \"rcsb_entry_info.deposited_polymer_entity_instance_count\", equals=n_chains\n",
        ")\n",
        "query_by_ligand_mw = rcsb.FieldQuery(\n",
        "    \"chem_comp.formula_weight\", molecular_definition=True, greater=min_ligand_molecular_weight\n",
        ")\n",
        "\n",
        "query = rcsb.CompositeQuery(\n",
        "    [\n",
        "        query_by_uniprot_id,\n",
        "        query_by_experimental_method,\n",
        "        query_by_resolution,\n",
        "        query_by_polymer_count,\n",
        "        query_by_ligand_mw,\n",
        "    ],\n",
        "    \"and\",\n",
        ")\n",
        "pdb_ids = rcsb.search(query)\n",
        "print(f\"Number of matches: {len(pdb_ids)}\")\n",
        "print(\"Selected PDB IDs:\")\n",
        "print(*pdb_ids)"
      ],
      "metadata": {
        "colab": {
          "base_uri": "https://localhost:8080/"
        },
        "id": "rMdEx9DXzfv0",
        "outputId": "b82851d0-dd7e-4ad4-8504-cf33539b97c9"
      },
      "execution_count": null,
      "outputs": [
        {
          "output_type": "stream",
          "name": "stdout",
          "text": [
            "Number of matches: 4\n",
            "Selected PDB IDs:\n",
            "4ZZJ 4IF6 4KXQ 4I5I\n"
          ]
        }
      ]
    },
    {
      "cell_type": "markdown",
      "source": [
        "## SIRT3"
      ],
      "metadata": {
        "id": "areOyaMOzjJT"
      }
    },
    {
      "cell_type": "code",
      "source": [
        "uniprot_id= \"Q9NTG7\"\n",
        "before_deposition_date = \"2022-09-01T00:00:00Z\"\n",
        "experimental_method = \"X-RAY DIFFRACTION\"\n",
        "max_resolution = 3.0\n",
        "n_chains = 1\n",
        "min_ligand_molecular_weight = 100.0\n",
        "\n",
        "query_by_uniprot_id = rcsb.FieldQuery(\n",
        "    \"rcsb_polymer_entity_container_identifiers.reference_sequence_identifiers.database_accession\",\n",
        "    exact_match=uniprot_id,\n",
        ")\n",
        "query_by_experimental_method = rcsb.FieldQuery(\"exptl.method\", exact_match=experimental_method)\n",
        "query_by_resolution = rcsb.FieldQuery(\n",
        "    \"rcsb_entry_info.resolution_combined\", less_or_equal=max_resolution\n",
        ")\n",
        "query_by_polymer_count = rcsb.FieldQuery(\n",
        "    \"rcsb_entry_info.deposited_polymer_entity_instance_count\", equals=n_chains\n",
        ")\n",
        "query_by_ligand_mw = rcsb.FieldQuery(\n",
        "    \"chem_comp.formula_weight\", molecular_definition=True, greater=min_ligand_molecular_weight\n",
        ")\n",
        "\n",
        "query = rcsb.CompositeQuery(\n",
        "    [\n",
        "        query_by_uniprot_id,\n",
        "        query_by_experimental_method,\n",
        "        query_by_resolution,\n",
        "        query_by_polymer_count,\n",
        "        query_by_ligand_mw,\n",
        "    ],\n",
        "    \"and\",\n",
        ")\n",
        "pdb_ids = rcsb.search(query)\n",
        "print(f\"Number of matches: {len(pdb_ids)}\")\n",
        "print(\"Selected PDB IDs:\")\n",
        "print(*pdb_ids)"
      ],
      "metadata": {
        "colab": {
          "base_uri": "https://localhost:8080/"
        },
        "id": "n1pcaoLnzklj",
        "outputId": "9ee74f00-2aaa-4738-cbd1-0a68a4e546b3"
      },
      "execution_count": null,
      "outputs": [
        {
          "output_type": "stream",
          "name": "stdout",
          "text": [
            "Number of matches: 7\n",
            "Selected PDB IDs:\n",
            "4JSR 4BN4 4O8Z 4BV3 4JT9 4JT8 4BVB\n"
          ]
        }
      ]
    },
    {
      "cell_type": "markdown",
      "source": [
        "## KDM1B"
      ],
      "metadata": {
        "id": "el0ykZzdzrwT"
      }
    },
    {
      "cell_type": "code",
      "source": [
        "uniprot_id= \"Q8NB78\"\n",
        "before_deposition_date = \"2022-09-01T00:00:00Z\"\n",
        "experimental_method = \"X-RAY DIFFRACTION\"\n",
        "max_resolution = 3.0\n",
        "n_chains = 2\n",
        "min_ligand_molecular_weight = 100.0\n",
        "\n",
        "query_by_uniprot_id = rcsb.FieldQuery(\n",
        "    \"rcsb_polymer_entity_container_identifiers.reference_sequence_identifiers.database_accession\",\n",
        "    exact_match=uniprot_id,\n",
        ")\n",
        "query_by_experimental_method = rcsb.FieldQuery(\"exptl.method\", exact_match=experimental_method)\n",
        "query_by_resolution = rcsb.FieldQuery(\n",
        "    \"rcsb_entry_info.resolution_combined\", less_or_equal=max_resolution\n",
        ")\n",
        "query_by_polymer_count = rcsb.FieldQuery(\n",
        "    \"rcsb_entry_info.deposited_polymer_entity_instance_count\", equals=n_chains\n",
        ")\n",
        "query_by_ligand_mw = rcsb.FieldQuery(\n",
        "    \"chem_comp.formula_weight\", molecular_definition=True, greater=min_ligand_molecular_weight\n",
        ")\n",
        "\n",
        "query = rcsb.CompositeQuery(\n",
        "    [\n",
        "        query_by_uniprot_id,\n",
        "        query_by_experimental_method,\n",
        "        query_by_resolution,\n",
        "        query_by_polymer_count,\n",
        "        query_by_ligand_mw,\n",
        "    ],\n",
        "    \"and\",\n",
        ")\n",
        "pdb_ids = rcsb.search(query)\n",
        "print(f\"Number of matches: {len(pdb_ids)}\")\n",
        "print(\"Selected PDB IDs:\")\n",
        "print(*pdb_ids)"
      ],
      "metadata": {
        "colab": {
          "base_uri": "https://localhost:8080/"
        },
        "id": "oLMk0Wo5zs0D",
        "outputId": "05328547-1335-4e41-d6b4-d03b89493911"
      },
      "execution_count": null,
      "outputs": [
        {
          "output_type": "stream",
          "name": "stdout",
          "text": [
            "Number of matches: 8\n",
            "Selected PDB IDs:\n",
            "4FWJ 4GUU 4GUT 4FWF 7XE2 7XE1 4GU1 7XE3\n"
          ]
        }
      ]
    },
    {
      "cell_type": "markdown",
      "source": [
        "## KDM6A"
      ],
      "metadata": {
        "id": "SnAfsQPjzyKr"
      }
    },
    {
      "cell_type": "code",
      "source": [
        "uniprot_id= \"O15550\"\n",
        "before_deposition_date = \"2022-09-01T00:00:00Z\"\n",
        "experimental_method = \"X-RAY DIFFRACTION\"\n",
        "max_resolution = 3.0\n",
        "n_chains = 1\n",
        "min_ligand_molecular_weight = 100.0\n",
        "\n",
        "query_by_uniprot_id = rcsb.FieldQuery(\n",
        "    \"rcsb_polymer_entity_container_identifiers.reference_sequence_identifiers.database_accession\",\n",
        "    exact_match=uniprot_id,\n",
        ")\n",
        "query_by_experimental_method = rcsb.FieldQuery(\"exptl.method\", exact_match=experimental_method)\n",
        "query_by_resolution = rcsb.FieldQuery(\n",
        "    \"rcsb_entry_info.resolution_combined\", less_or_equal=max_resolution\n",
        ")\n",
        "query_by_polymer_count = rcsb.FieldQuery(\n",
        "    \"rcsb_entry_info.deposited_polymer_entity_instance_count\", equals=n_chains\n",
        ")\n",
        "query_by_ligand_mw = rcsb.FieldQuery(\n",
        "    \"chem_comp.formula_weight\", molecular_definition=True, greater=min_ligand_molecular_weight\n",
        ")\n",
        "\n",
        "query = rcsb.CompositeQuery(\n",
        "    [\n",
        "        query_by_uniprot_id,\n",
        "        query_by_experimental_method,\n",
        "        query_by_resolution,\n",
        "        query_by_polymer_count,\n",
        "        query_by_ligand_mw,\n",
        "    ],\n",
        "    \"and\",\n",
        ")\n",
        "pdb_ids = rcsb.search(query)\n",
        "print(f\"Number of matches: {len(pdb_ids)}\")\n",
        "print(\"Selected PDB IDs:\")\n",
        "print(*pdb_ids)"
      ],
      "metadata": {
        "colab": {
          "base_uri": "https://localhost:8080/"
        },
        "id": "JKI12sBez0pg",
        "outputId": "0d6c4e48-7590-4009-a68a-2e05aab57505"
      },
      "execution_count": null,
      "outputs": [
        {
          "output_type": "stream",
          "name": "stdout",
          "text": [
            "Number of matches: 4\n",
            "Selected PDB IDs:\n",
            "6FUL 6FUK 6G8F 3AVS\n"
          ]
        }
      ]
    },
    {
      "cell_type": "markdown",
      "source": [
        "## BRD4"
      ],
      "metadata": {
        "id": "u4c45whbz3XQ"
      }
    },
    {
      "cell_type": "code",
      "source": [
        "uniprot_id= \"O60885\"\n",
        "before_deposition_date = \"2022-09-01T00:00:00Z\"\n",
        "experimental_method = \"X-RAY DIFFRACTION\"\n",
        "max_resolution = 3.0\n",
        "n_chains = 1\n",
        "min_ligand_molecular_weight = 100.0\n",
        "\n",
        "query_by_uniprot_id = rcsb.FieldQuery(\n",
        "    \"rcsb_polymer_entity_container_identifiers.reference_sequence_identifiers.database_accession\",\n",
        "    exact_match=uniprot_id,\n",
        ")\n",
        "query_by_experimental_method = rcsb.FieldQuery(\"exptl.method\", exact_match=experimental_method)\n",
        "query_by_resolution = rcsb.FieldQuery(\n",
        "    \"rcsb_entry_info.resolution_combined\", less_or_equal=max_resolution\n",
        ")\n",
        "query_by_polymer_count = rcsb.FieldQuery(\n",
        "    \"rcsb_entry_info.deposited_polymer_entity_instance_count\", equals=n_chains\n",
        ")\n",
        "query_by_ligand_mw = rcsb.FieldQuery(\n",
        "    \"chem_comp.formula_weight\", molecular_definition=True, greater=min_ligand_molecular_weight\n",
        ")\n",
        "\n",
        "query = rcsb.CompositeQuery(\n",
        "    [\n",
        "        query_by_uniprot_id,\n",
        "        query_by_experimental_method,\n",
        "        query_by_resolution,\n",
        "        query_by_polymer_count,\n",
        "        query_by_ligand_mw,\n",
        "    ],\n",
        "    \"and\",\n",
        ")\n",
        "pdb_ids = rcsb.search(query)\n",
        "print(f\"Number of matches: {len(pdb_ids)}\")\n",
        "print(\"Selected PDB IDs:\")\n",
        "print(*pdb_ids)"
      ],
      "metadata": {
        "colab": {
          "base_uri": "https://localhost:8080/"
        },
        "id": "ytWu83yAz6iq",
        "outputId": "c9836e7f-1a42-4606-c6e0-e04ebccd8a6a"
      },
      "execution_count": null,
      "outputs": [
        {
          "output_type": "stream",
          "name": "stdout",
          "text": [
            "Number of matches: 385\n",
            "Selected PDB IDs:\n",
            "5Z1S 5Z1T 6SAJ 5Z1R 6SAH 4LZR 4GPJ 5WMA 6SB8 4LZS 4ZW1 5WMG 5WMD 5EIS 7MRB 4LYI 7MRA 7A9U 7JKZ 7JKY 6SA3 6SA2 5YOV 5YOU 7KO0 4LYW 6IN1 5KU3 4LYS 5EI4 4QB3 6FFD 4J3I 5LUU 4CFL 4CFK 4UIZ 4UIY 7MR9 7JKX 7JKW 7P6W 7P6V 7MR8 7M16 7R9C 7AXR 5UET 5UER 5UES 5UEP 5UEQ 5UF0 5UEZ 5HM0 5UEX 5UEY 5UEV 5HLS 6YIN 5O97 5M3A 7RXS 4J0R 4IOR 4IOQ 7RXT 5LRQ 4IOO 4J0S 7ZG2 4WIV 7ZG1 5OWM 7ZFS 5XI3 5XI4 6JJB 5XI2 7ZFO 7ZFN 7ZFY 7ZFZ 7ZFU 7ZFT 5XHY 7ZFV 7O18 3MXF 7ZEF 7Q3F 7ZEN 4WHW 6JJ5 7MLS 6JJ6 6JJ3 7MLR 7MLQ 7C6P 5FBX 6CZU 4O7C 4O7B 4O7A 7RUH 7RUI 5VBO 4LRG 6CZV 5N2M 7ZE6 6JI4 6HDQ 6JI5 6JI3 4NUC 7LH8 6RWJ 6PSB 5A85 4NUE 4NUD 4O72 7UZN 4O78 4LR6 4O75 6C7Q 6C7R 6ZED 6ZEL 6ZF9 5IGK 4QZS 6PS9 6PRT 7ZAD 7ZAE 7ZAA 7B1T 7ZAJ 5A5S 7ZAT 6SWQ 5S9R 6LIH 6SWN 7ZAR 7ZAQ 6S6K 4A9L 4MR4 4MR3 6LIM 4YH3 6ZCI 7ZA6 5WA5 7C2Z 4YH4 6P05 7ZA7 5KJ0 5HCL 7ZA9 6LG8 5MKZ 6LG9 6LG6 6LG7 6LG4 6LG5 7T3F 5CY9 6S4B 6KEG 6KEH 6KEE 5MLI 4NQM 6KEF 6KEC 6KED 4NR8 6KEK 6KEI 6KEJ 7UTY 6ZB3 5LJ2 5LJ1 4HBV 7WWZ 4HBY 4HBX 4HBW 3P5O 6UWX 6UWU 4BW1 5DX4 4BW4 4BW3 4BW2 7MCE 6UVM 7RMD 6UVJ 6S25 7RN2 5CTL 7OEO 7AJN 5DW2 2OUO 5KDH 5UVY 5UVZ 7V1U 4C67 4C66 7V2J 6TPY 6TPZ 5D3L 6TPX 5D3J 5D3H 6WW8 5D3S 5D3T 6VUB 4E96 6VUC 5D3R 4UYD 5D3P 5CRM 5D3N 6VUJ 5CRZ 5CS8 2OSS 7W3D 5UVU 4QR5 4QR4 5UVS 4QR3 5UVT 4ZC9 5V67 2YEL 6X7C 6MAU 6AJV 6AJW 5CQT 6AJZ 6AJX 6AJY 5CPE 6V1U 6FT3 3SVF 6FT4 5F62 5F63 5F60 6FSY 5F5Z 6U0D 5D26 5D24 5D25 3SVG 6XUZ 5COI 6V0U 5U28 4MEQ 6XV7 4MEP 4MEO 4MEN 5D0C 6XVC 6I7Y 5CP5 6I7X 6V1L 6V1K 5Y8Y 5Y8Z 7REL 5Y8W 7REM 5WUU 5W55 6DML 6DMJ 6CKS 7K6H 5Y8C 6AFR 6Z7G 5E0R 5Y94 5Y93 6Z7L 6Z7M 6G0F 5Z8Z 6G0G 6G0D 6G0E 4XY9 4XYA 5I80 6G0H 6CIS 5Z9K 3U5J 6CJ2 6DL2 6CJ1 5I88 6CIY 3U5L 4HXL 4F3I 4HXK 4HXS 7EIK 4HXR 4HXP 4HXO 7EIG 4HXN 4HXM 6FO5 7EIL 5Z8G 5Z8R 5UOO 5Z90 6FNX 4DON 7EHW 5DLZ 7EHY 5DLX 5Z5U 5Z5V 4CLB 5Z5T 6YQO 6YQP 6YQZ 4BJX 6SE4 5H21 4Z93 6YQN 4CL9 6HOV 5TI2 4PCI 5TI7 5TI5 5Y1Y 5TI6 5TI3 5TI4 8EAD 5YQX 5HQ5 5HQ6 5CFW 6CD4 4PCE 6CD5 4X2I 5HQ7\n"
          ]
        }
      ]
    }
  ]
}